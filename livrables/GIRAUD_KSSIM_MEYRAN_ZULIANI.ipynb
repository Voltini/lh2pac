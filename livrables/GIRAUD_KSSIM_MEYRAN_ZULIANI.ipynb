{
 "cells": [
  {
   "cell_type": "code",
   "execution_count": null,
   "metadata": {},
   "outputs": [],
   "source": [
    "## LIBRARIES ##\n",
    "from gemseo import (\n",
    "    configure_logger,\n",
    "    create_design_space,\n",
    "    create_scenario,\n",
    "    create_surrogate,\n",
    ")\n",
    "from gemseo.algos.parameter_space import ParameterSpace\n",
    "from gemseo.mlearning.quality_measures.r2_measure import R2Measure\n",
    "from gemseo.mlearning.quality_measures.rmse_measure import RMSEMeasure\n",
    "from gemseo.uncertainty.sensitivity.sobol.analysis import SobolAnalysis\n",
    "from gemseo_mlearning.api import sample_discipline\n",
    "\n",
    "from lh2pac.gemseo.discipline import H2TurboFan\n",
    "from lh2pac.gemseo.utils import draw_aircraft, get_aircraft_data\n",
    "from lh2pac.marilib.utils import unit\n",
    "\n",
    "\n",
    "import matplotlib.pyplot as plt\n",
    "import pprint\n",
    "from gemseo.uncertainty.sensitivity.morris.analysis import MorrisAnalysis\n",
    "\n",
    "# PART 3 Surrogate modeling and robust optimization\n",
    "from gemseo_umdo.scenarios.umdo_scenario import UMDOScenario"
   ]
  },
  {
   "cell_type": "markdown",
   "metadata": {},
   "source": [
    "# 1. Comparaison entre le modèle H2TURBOFAN et un modèle de substitution"
   ]
  },
  {
   "cell_type": "markdown",
   "metadata": {},
   "source": [
    "## 1.1 Génération du modèle de substitution"
   ]
  },
  {
   "cell_type": "code",
   "execution_count": null,
   "metadata": {},
   "outputs": [],
   "source": [
    "configure_logger()"
   ]
  },
  {
   "cell_type": "code",
   "execution_count": null,
   "metadata": {},
   "outputs": [],
   "source": [
    "default_discipline = H2TurboFan()\n",
    "print(f\"INPUT: {default_discipline.get_input_data_names()}\\n\")\n",
    "print(f\"OUPUT: {default_discipline.get_output_data_names()}\\n\")\n",
    "print(f\"DEFAULT VALUES: {default_discipline.default_inputs}\\n\")"
   ]
  },
  {
   "cell_type": "markdown",
   "metadata": {},
   "source": [
    "The design parameters are :\n",
    "\n",
    "-  the engine maximum thrust (100 kN ≤ thrust ≤ 150 kN, default: 125 kN),\n",
    "- the engine bypass ratio (BPR) (5 ≤ BPR ≤ 12, default: 8.5),\n",
    "- the wing area (120 m² ≤ area ≤ 200 m², default: 160 m²),\n",
    "- the wing aspect ratio (7 ≤ ar ≤ 12, default: 9.5).\n"
   ]
  },
  {
   "cell_type": "code",
   "execution_count": null,
   "metadata": {},
   "outputs": [],
   "source": [
    "default_discipline.execute()\n",
    "aircraft_data = get_aircraft_data(default_discipline)\n",
    "print(aircraft_data)\n",
    "draw_aircraft(default_discipline, \"The default A/C\")"
   ]
  },
  {
   "cell_type": "code",
   "execution_count": null,
   "metadata": {},
   "outputs": [],
   "source": [
    "design_space = create_design_space()\n",
    "design_space.add_variable(\"thrust\", l_b=1e5, u_b=1.5e5, value=1.25e5)\n",
    "design_space.add_variable(\"bpr\", l_b=5.0, u_b=12.0, value=8.5)\n",
    "design_space.add_variable(\"area\", l_b=120.0, u_b=200.0, value=160.0)\n",
    "design_space.add_variable(\"aspect_ratio\", l_b=7.0, u_b=12.0, value=9.5)"
   ]
  },
  {
   "cell_type": "code",
   "execution_count": null,
   "metadata": {},
   "outputs": [],
   "source": [
    "dataset = sample_discipline(\n",
    "    default_discipline,\n",
    "    design_space,\n",
    "    [\"tofl\", \"vapp\", \"vz_mcl\", \"vz_mcr\", \"oei_path\", \"ttc\", \"far\", \"mtow\"],\n",
    "    \"OT_OPT_LHS\",\n",
    "    30,\n",
    ")"
   ]
  },
  {
   "cell_type": "code",
   "execution_count": null,
   "metadata": {},
   "outputs": [],
   "source": [
    "avail_regressors = [\n",
    "    \"GaussianProcessRegressor\",\n",
    "    \"GradientBoostingRegressor\",\n",
    "    \"LinearRegressor\",\n",
    "    \"MLPRegressor\",\n",
    "    \"MOERegressor\",\n",
    "    \"OTGaussianProcessRegressor\",\n",
    "    \"PCERegressor\",\n",
    "    \"PolynomialRegressor\",\n",
    "    \"RBFRegressor\",\n",
    "    \"RandomForestRegressor\",\n",
    "    \"RegressorChain\",\n",
    "    \"SVMRegressor\",\n",
    "    \"TPSRegressor\",\n",
    "]"
   ]
  },
  {
   "cell_type": "code",
   "execution_count": null,
   "metadata": {},
   "outputs": [],
   "source": [
    "surrogate_discipline = create_surrogate(\"RBFRegressor\", dataset)\n",
    "surrogate_discipline.execute()\n",
    "surrogate_discipline.cache.last_entry"
   ]
  },
  {
   "cell_type": "code",
   "execution_count": null,
   "metadata": {},
   "outputs": [],
   "source": [
    "# R2 measure\n",
    "r2 = R2Measure(surrogate_discipline.regression_model, True)\n",
    "r2.compute_learning_measure()\n",
    "r2.compute_cross_validation_measure()"
   ]
  },
  {
   "cell_type": "code",
   "execution_count": null,
   "metadata": {},
   "outputs": [],
   "source": [
    "ticks_labels = [\n",
    "    \"mtow\",\n",
    "    \"tofl\",\n",
    "    \"vapp\",\n",
    "    \"vz_mcl\",\n",
    "    \"vz_mcr\",\n",
    "    \"oei_path\",\n",
    "    \"ttc\",\n",
    "    \"far\",\n",
    "]\n",
    "plt.figure(figsize=(6, 4))\n",
    "r2_data = r2.compute_cross_validation_measure()\n",
    "plt.scatter(list(range(len(ticks_labels))), r2_data, color=\"blue\")\n",
    "plt.xticks(list(range(len(ticks_labels))), ticks_labels, rotation=45)\n",
    "plt.ylabel(\"R2\")\n",
    "plt.ylim(0, 1)\n",
    "plt.show()"
   ]
  },
  {
   "cell_type": "code",
   "execution_count": null,
   "metadata": {},
   "outputs": [],
   "source": [
    "#  Root mean squared error\n",
    "rmse = RMSEMeasure(surrogate_discipline.regression_model, True)\n",
    "rmse.compute_learning_measure()\n",
    "rmse.compute_cross_validation_measure()"
   ]
  },
  {
   "cell_type": "markdown",
   "metadata": {},
   "source": [
    "## 1.2 Comparaison des modèles optimisés"
   ]
  },
  {
   "cell_type": "markdown",
   "metadata": {},
   "source": [
    "### 1.2.1 Optimisation du modèle de référence"
   ]
  },
  {
   "cell_type": "code",
   "execution_count": null,
   "metadata": {},
   "outputs": [],
   "source": [
    "scenario = create_scenario(\n",
    "    [default_discipline], \"DisciplinaryOpt\", \"mtow\", design_space\n",
    ")\n",
    "scenario.add_constraint(\"tofl\", constraint_type=\"ineq\", positive=False, value=2200.0)\n",
    "scenario.add_constraint(\n",
    "    \"vapp\", constraint_type=\"ineq\", positive=False, value=unit.mps_kt(137.0)\n",
    ")\n",
    "scenario.add_constraint(\n",
    "    \"vz_mcl\", constraint_type=\"ineq\", positive=True, value=unit.mps_ftpmin(300.0)\n",
    ")\n",
    "scenario.add_constraint(\n",
    "    \"vz_mcr\", constraint_type=\"ineq\", positive=True, value=unit.mps_ftpmin(0.0)\n",
    ")\n",
    "scenario.add_constraint(\n",
    "    \"oei_path\", constraint_type=\"ineq\", positive=True, value=1.1 * 1e-2\n",
    ")\n",
    "scenario.add_constraint(\n",
    "    \"ttc\", constraint_type=\"ineq\", positive=False, value=25.0 * 60.0\n",
    ")\n",
    "scenario.add_constraint(\"far\", constraint_type=\"ineq\", positive=False, value=13.4)"
   ]
  },
  {
   "cell_type": "code",
   "execution_count": null,
   "metadata": {},
   "outputs": [],
   "source": [
    "scenario.execute({\"algo\": \"NLOPT_COBYLA\", \"max_iter\": 100})"
   ]
  },
  {
   "cell_type": "code",
   "execution_count": null,
   "metadata": {},
   "outputs": [],
   "source": [
    "# Post-processing options\n",
    "views = [\n",
    "    \"BasicHistory\",\n",
    "    \"ConstraintsHistory\",\n",
    "    \"Correlations\",\n",
    "    \"GradientSensitivity\",\n",
    "    \"ObjConstrHist\",\n",
    "    \"OptHistoryView\",\n",
    "    \"ParallelCoordinates\",\n",
    "    \"ParetoFront\",\n",
    "    \"QuadApprox\",\n",
    "    \"RadarChart\",\n",
    "    \"Robustness\",\n",
    "    \"SOM\",\n",
    "    \"ScatterPlotMatrix\",\n",
    "    \"TopologyView\",\n",
    "    \"VariableInfluence\",\n",
    "]\n",
    "for view in views:\n",
    "    try:\n",
    "        scenario.post_process(view, save=False, show=True)\n",
    "    except Exception:\n",
    "        print(view)"
   ]
  },
  {
   "cell_type": "markdown",
   "metadata": {},
   "source": [
    "### 1.2.2 Optimisation du modèle de substitution"
   ]
  },
  {
   "cell_type": "code",
   "execution_count": null,
   "metadata": {},
   "outputs": [],
   "source": [
    "surrogate_scenario = create_scenario(\n",
    "    [surrogate_discipline], \"DisciplinaryOpt\", \"mtow\", design_space\n",
    ")\n",
    "\n",
    "surrogate_scenario.add_constraint(\n",
    "    \"tofl\", constraint_type=\"ineq\", positive=False, value=2.2e3\n",
    ")\n",
    "surrogate_scenario.add_constraint(\n",
    "    \"vapp\", constraint_type=\"ineq\", positive=False, value=unit.mps_kt(137)\n",
    ")\n",
    "surrogate_scenario.add_constraint(\n",
    "    \"vz_mcl\", constraint_type=\"ineq\", positive=True, value=unit.mps_ftpmin(300)\n",
    ")\n",
    "surrogate_scenario.add_constraint(\n",
    "    \"vz_mcr\", constraint_type=\"ineq\", positive=True, value=0\n",
    ")\n",
    "surrogate_scenario.add_constraint(\n",
    "    \"oei_path\", constraint_type=\"ineq\", positive=True, value=1.1e-2\n",
    ")\n",
    "surrogate_scenario.add_constraint(\n",
    "    \"ttc\", constraint_type=\"ineq\", positive=False, value=unit.s_min(25)\n",
    ")\n",
    "surrogate_scenario.add_constraint(\n",
    "    \"far\", constraint_type=\"ineq\", positive=False, value=13.4\n",
    ")"
   ]
  },
  {
   "cell_type": "code",
   "execution_count": null,
   "metadata": {},
   "outputs": [],
   "source": [
    "surrogate_scenario.execute({\"algo\": \"NLOPT_COBYLA\", \"max_iter\": 10000})"
   ]
  },
  {
   "cell_type": "code",
   "execution_count": null,
   "metadata": {},
   "outputs": [],
   "source": [
    "for view in views:\n",
    "    try:\n",
    "        surrogate_scenario.post_process(view, save=False, show=True)\n",
    "    except Exception:\n",
    "        print(view)"
   ]
  },
  {
   "cell_type": "markdown",
   "metadata": {},
   "source": [
    "# 2. Analyse de sensibilité"
   ]
  },
  {
   "cell_type": "markdown",
   "metadata": {},
   "source": [
    "## 2.1 Analyse des indices de Sobol"
   ]
  },
  {
   "cell_type": "code",
   "execution_count": null,
   "metadata": {},
   "outputs": [],
   "source": [
    "class MyUncertainSpace(ParameterSpace):\n",
    "    def __init__(self):\n",
    "        super().__init__()\n",
    "        self.add_random_variable(\n",
    "            \"tgi\", \"OTTriangularDistribution\", minimum=0.25, mode=0.3, maximum=0.305\n",
    "        )\n",
    "        self.add_random_variable(\n",
    "            \"tvi\", \"OTTriangularDistribution\", minimum=0.8, mode=0.845, maximum=0.85\n",
    "        )\n",
    "        self.add_random_variable(\n",
    "            \"drag\", \"OTTriangularDistribution\", minimum=0.99, mode=1, maximum=1.03\n",
    "        )\n",
    "        self.add_random_variable(\n",
    "            \"sfc\", \"OTTriangularDistribution\", minimum=0.99, mode=1, maximum=1.03\n",
    "        )\n",
    "        self.add_random_variable(\n",
    "            \"mass\", \"OTTriangularDistribution\", minimum=0.99, mode=1, maximum=1.03\n",
    "        )\n",
    "\n",
    "\n",
    "uncertain_space = MyUncertainSpace()\n",
    "print(uncertain_space)"
   ]
  },
  {
   "cell_type": "markdown",
   "metadata": {},
   "source": [
    "### 2.1.1 Pour le modèle de référence"
   ]
  },
  {
   "cell_type": "code",
   "execution_count": null,
   "metadata": {},
   "outputs": [],
   "source": [
    "sobol = SobolAnalysis([default_discipline], uncertain_space, 100)\n",
    "sobol.compute_indices()"
   ]
  },
  {
   "cell_type": "code",
   "execution_count": null,
   "metadata": {},
   "outputs": [],
   "source": [
    "pprint.pprint(sobol.first_order_indices)\n",
    "pprint.pprint(sobol.total_order_indices)"
   ]
  },
  {
   "cell_type": "code",
   "execution_count": null,
   "metadata": {},
   "outputs": [],
   "source": [
    "sobol.plot(\"far\", save=False, show=True)"
   ]
  },
  {
   "cell_type": "markdown",
   "metadata": {},
   "source": [
    "### 2.1.2 Pour le modèle de substitution"
   ]
  },
  {
   "cell_type": "code",
   "execution_count": null,
   "metadata": {},
   "outputs": [],
   "source": [
    "uncertain_dataset = sample_discipline(\n",
    "    default_discipline,\n",
    "    uncertain_space,\n",
    "    [\"tofl\", \"vapp\", \"vz_mcl\", \"vz_mcr\", \"oei_path\", \"ttc\", \"far\", \"mtow\"],\n",
    "    \"OT_OPT_LHS\",\n",
    "    30,\n",
    ")"
   ]
  },
  {
   "cell_type": "code",
   "execution_count": null,
   "metadata": {},
   "outputs": [],
   "source": [
    "names = [\"mtow\", \"tgi\", \"tvi\", \"sfc\", \"mass\", \"drag\"]\n",
    "colors = [\"blue\", \"red\", \"green\", \"orange\", \"purple\", \"brown\"]\n",
    "fig, axes = plt.subplots(2, 3, figsize=(15, 10))\n",
    "for i, (ax, name) in enumerate(zip(axes.flatten(), names)):\n",
    "    ax.hist(uncertain_dataset.get_view(variable_names=name), bins=20, color=colors[i])\n",
    "    ax.set_title(name)\n",
    "plt.suptitle(\"Vérification des distributions des variables aléatoires\")\n",
    "plt.show()"
   ]
  },
  {
   "cell_type": "code",
   "execution_count": null,
   "metadata": {},
   "outputs": [],
   "source": [
    "uncertain_surrogate_discipline = create_surrogate(\"RBFRegressor\", uncertain_dataset)\n",
    "uncertain_surrogate_discipline.execute()"
   ]
  },
  {
   "cell_type": "code",
   "execution_count": null,
   "metadata": {},
   "outputs": [],
   "source": [
    "sobol_surrogate = SobolAnalysis(\n",
    "    [uncertain_surrogate_discipline], uncertain_space, n_samples=10000\n",
    ")\n",
    "sobol_surrogate.compute_indices()"
   ]
  },
  {
   "cell_type": "code",
   "execution_count": null,
   "metadata": {},
   "outputs": [],
   "source": [
    "sobol_surrogate.plot(\"mtow\", save=False, show=True)"
   ]
  },
  {
   "cell_type": "markdown",
   "metadata": {},
   "source": [
    "##  2.2 Analyse de Morris"
   ]
  },
  {
   "cell_type": "code",
   "execution_count": null,
   "metadata": {},
   "outputs": [],
   "source": [
    "morris_analysis = MorrisAnalysis(\n",
    "    [uncertain_surrogate_discipline], uncertain_space, n_samples=1000\n",
    ")\n",
    "morris_analysis.compute_indices()"
   ]
  },
  {
   "cell_type": "code",
   "execution_count": null,
   "metadata": {},
   "outputs": [],
   "source": [
    "morris_analysis.plot(\"mtow\", save=False, show=True, lower_mu=0, lower_sigma=0)"
   ]
  },
  {
   "cell_type": "markdown",
   "metadata": {},
   "source": [
    "# 3. Gestion des incertitudes et optimisation"
   ]
  },
  {
   "cell_type": "code",
   "execution_count": null,
   "metadata": {},
   "outputs": [],
   "source": [
    "full_design_space = create_design_space()\n",
    "full_design_space.add_variable(\n",
    "    \"thrust\", l_b=100.0 * 1e3, u_b=150.0 * 1e3, value=125 * 1e3\n",
    ")\n",
    "full_design_space.add_variable(\"bpr\", l_b=5.0, u_b=12.0, value=8.5)\n",
    "full_design_space.add_variable(\"area\", l_b=120, u_b=200, value=160)\n",
    "full_design_space.add_variable(\"aspect_ratio\", l_b=7.0, u_b=12.0, value=9.5)\n",
    "full_design_space.add_variable(\"tgi\", l_b=0.25, u_b=0.305)\n",
    "full_design_space.add_variable(\"tvi\", l_b=0.8, u_b=0.85)\n",
    "full_design_space.add_variable(\"drag\", l_b=0.99, u_b=1.03)\n",
    "full_design_space.add_variable(\"sfc\", l_b=0.99, u_b=1.03)\n",
    "full_design_space.add_variable(\"mass\", l_b=0.99, u_b=1.03)"
   ]
  },
  {
   "cell_type": "code",
   "execution_count": null,
   "metadata": {},
   "outputs": [],
   "source": [
    "sm = sample_discipline(\n",
    "    default_discipline,\n",
    "    full_design_space,\n",
    "    [\"tofl\", \"vapp\", \"vz_mcl\", \"vz_mcr\", \"oei_path\", \"ttc\", \"far\", \"mtow\"],\n",
    "    \"OT_OPT_LHS\",\n",
    "    30,\n",
    ")  # do it for 100"
   ]
  },
  {
   "cell_type": "code",
   "execution_count": null,
   "metadata": {},
   "outputs": [],
   "source": [
    "umdo_surrogate_discipline = create_surrogate(\"RBFRegressor\", sm)\n",
    "umdo_surrogate_discipline.execute()\n",
    "umdo_surrogate_discipline.cache.last_entry\n",
    "\n",
    "# R2 measure\n",
    "r2 = R2Measure(umdo_surrogate_discipline.regression_model, True)\n",
    "r2.compute_learning_measure()\n",
    "r2.compute_cross_validation_measure()"
   ]
  },
  {
   "cell_type": "code",
   "execution_count": null,
   "metadata": {},
   "outputs": [],
   "source": [
    "umdo_surrogate_discipline.execute()"
   ]
  },
  {
   "cell_type": "code",
   "execution_count": null,
   "metadata": {},
   "outputs": [],
   "source": [
    "design_space = create_design_space()\n",
    "design_space.add_variable(\"thrust\", l_b=1e5, u_b=1.5e5, value=1.25e5)\n",
    "design_space.add_variable(\"bpr\", l_b=5, u_b=12, value=8.5)\n",
    "design_space.add_variable(\"area\", l_b=120, u_b=200, value=160)\n",
    "design_space.add_variable(\"aspect_ratio\", l_b=7, u_b=12, value=9.5)"
   ]
  },
  {
   "cell_type": "code",
   "execution_count": null,
   "metadata": {},
   "outputs": [],
   "source": [
    "uncertain_space = MyUncertainSpace()"
   ]
  },
  {
   "cell_type": "code",
   "execution_count": null,
   "metadata": {},
   "outputs": [],
   "source": [
    "umdo_scenario = UMDOScenario(\n",
    "    [umdo_surrogate_discipline],\n",
    "    \"DisciplinaryOpt\",\n",
    "    \"mtow\",\n",
    "    design_space,\n",
    "    uncertain_space,\n",
    "    \"Mean\",\n",
    "    statistic_estimation=\"Sampling\",\n",
    "    statistic_estimation_parameters={\"n_samples\": 100},\n",
    ")\n",
    "\n",
    "umdo_scenario.add_constraint(\n",
    "    \"tofl\", \"Margin\", factor=3.0, constraint_type=\"ineq\", positive=False, value=2200.0\n",
    ")\n",
    "umdo_scenario.add_constraint(\n",
    "    \"vapp\",\n",
    "    \"Margin\",\n",
    "    factor=3.0,\n",
    "    constraint_type=\"ineq\",\n",
    "    positive=False,\n",
    "    value=unit.mps_kt(137.0),\n",
    ")\n",
    "umdo_scenario.add_constraint(\n",
    "    \"vz_mcl\",\n",
    "    \"Margin\",\n",
    "    factor=3.0,\n",
    "    constraint_type=\"ineq\",\n",
    "    positive=True,\n",
    "    value=unit.mps_ftpmin(300.0),\n",
    ")\n",
    "umdo_scenario.add_constraint(\n",
    "    \"vz_mcr\",\n",
    "    \"Margin\",\n",
    "    factor=3.0,\n",
    "    constraint_type=\"ineq\",\n",
    "    positive=True,\n",
    "    value=unit.mps_ftpmin(0.0),\n",
    ")\n",
    "umdo_scenario.add_constraint(\n",
    "    \"oei_path\",\n",
    "    \"Margin\",\n",
    "    factor=3.0,\n",
    "    constraint_type=\"ineq\",\n",
    "    positive=True,\n",
    "    value=1.1e-2,\n",
    ")\n",
    "umdo_scenario.add_constraint(\n",
    "    \"ttc\",\n",
    "    \"Margin\",\n",
    "    factor=3.0,\n",
    "    constraint_type=\"ineq\",\n",
    "    positive=False,\n",
    "    value=25.0 * 60.0,\n",
    ")\n",
    "umdo_scenario.add_constraint(\n",
    "    \"far\",\n",
    "    \"Margin\",\n",
    "    factor=3.0,\n",
    "    constraint_type=\"ineq\",\n",
    "    positive=False,\n",
    "    value=13.4,\n",
    ")"
   ]
  },
  {
   "cell_type": "code",
   "execution_count": null,
   "metadata": {},
   "outputs": [],
   "source": [
    "umdo_scenario.set_differentiation_method(\"finite_differences\")\n",
    "umdo_scenario.execute({\"algo\": \"NLOPT_SLSQP\", \"max_iter\": 100})"
   ]
  },
  {
   "cell_type": "code",
   "execution_count": null,
   "metadata": {},
   "outputs": [],
   "source": [
    "umdo_scenario.post_process(\"OptHistoryView\", save=True, show=True)"
   ]
  }
 ],
 "metadata": {
  "kernelspec": {
   "display_name": "Python 3",
   "language": "python",
   "name": "python3"
  },
  "language_info": {
   "codemirror_mode": {
    "name": "ipython",
    "version": 3
   },
   "file_extension": ".py",
   "mimetype": "text/x-python",
   "name": "python",
   "nbconvert_exporter": "python",
   "pygments_lexer": "ipython3",
   "version": "3.11.9"
  }
 },
 "nbformat": 4,
 "nbformat_minor": 2
}
